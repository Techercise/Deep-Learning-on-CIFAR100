{
  "nbformat": 4,
  "nbformat_minor": 0,
  "metadata": {
    "colab": {
      "name": "PR3_Leinhauser.ipynb",
      "provenance": []
    },
    "kernelspec": {
      "name": "python3",
      "display_name": "Python 3"
    },
    "accelerator": "GPU",
    "widgets": {
      "application/vnd.jupyter.widget-state+json": {
        "3c8456e9c90949849b1155211432fdc4": {
          "model_module": "@jupyter-widgets/controls",
          "model_name": "HBoxModel",
          "state": {
            "_view_name": "HBoxView",
            "_dom_classes": [],
            "_model_name": "HBoxModel",
            "_view_module": "@jupyter-widgets/controls",
            "_model_module_version": "1.5.0",
            "_view_count": null,
            "_view_module_version": "1.5.0",
            "box_style": "",
            "layout": "IPY_MODEL_aea38b0a2aae4cd5bc40d44d6b9335fc",
            "_model_module": "@jupyter-widgets/controls",
            "children": [
              "IPY_MODEL_ea0f5008adef49488882e9ee3337dd30",
              "IPY_MODEL_0cc1796f4c1d438b860cc0a8723b8ae5"
            ]
          }
        },
        "aea38b0a2aae4cd5bc40d44d6b9335fc": {
          "model_module": "@jupyter-widgets/base",
          "model_name": "LayoutModel",
          "state": {
            "_view_name": "LayoutView",
            "grid_template_rows": null,
            "right": null,
            "justify_content": null,
            "_view_module": "@jupyter-widgets/base",
            "overflow": null,
            "_model_module_version": "1.2.0",
            "_view_count": null,
            "flex_flow": null,
            "width": null,
            "min_width": null,
            "border": null,
            "align_items": null,
            "bottom": null,
            "_model_module": "@jupyter-widgets/base",
            "top": null,
            "grid_column": null,
            "overflow_y": null,
            "overflow_x": null,
            "grid_auto_flow": null,
            "grid_area": null,
            "grid_template_columns": null,
            "flex": null,
            "_model_name": "LayoutModel",
            "justify_items": null,
            "grid_row": null,
            "max_height": null,
            "align_content": null,
            "visibility": null,
            "align_self": null,
            "height": null,
            "min_height": null,
            "padding": null,
            "grid_auto_rows": null,
            "grid_gap": null,
            "max_width": null,
            "order": null,
            "_view_module_version": "1.2.0",
            "grid_template_areas": null,
            "object_position": null,
            "object_fit": null,
            "grid_auto_columns": null,
            "margin": null,
            "display": null,
            "left": null
          }
        },
        "ea0f5008adef49488882e9ee3337dd30": {
          "model_module": "@jupyter-widgets/controls",
          "model_name": "IntProgressModel",
          "state": {
            "_view_name": "ProgressView",
            "style": "IPY_MODEL_3a53c222ec0046d9851f31f520b8ef01",
            "_dom_classes": [],
            "description": "",
            "_model_name": "IntProgressModel",
            "bar_style": "info",
            "max": 1,
            "_view_module": "@jupyter-widgets/controls",
            "_model_module_version": "1.5.0",
            "value": 1,
            "_view_count": null,
            "_view_module_version": "1.5.0",
            "orientation": "horizontal",
            "min": 0,
            "description_tooltip": null,
            "_model_module": "@jupyter-widgets/controls",
            "layout": "IPY_MODEL_94f09061a6e543859ce16aed17dde677"
          }
        },
        "0cc1796f4c1d438b860cc0a8723b8ae5": {
          "model_module": "@jupyter-widgets/controls",
          "model_name": "HTMLModel",
          "state": {
            "_view_name": "HTMLView",
            "style": "IPY_MODEL_c3c6d9f725054df785f1dab8d5270c54",
            "_dom_classes": [],
            "description": "",
            "_model_name": "HTMLModel",
            "placeholder": "​",
            "_view_module": "@jupyter-widgets/controls",
            "_model_module_version": "1.5.0",
            "value": " 169009152/? [00:30&lt;00:00, 17559786.94it/s]",
            "_view_count": null,
            "_view_module_version": "1.5.0",
            "description_tooltip": null,
            "_model_module": "@jupyter-widgets/controls",
            "layout": "IPY_MODEL_39b9eba932864241b2f9f5d277ec47f8"
          }
        },
        "3a53c222ec0046d9851f31f520b8ef01": {
          "model_module": "@jupyter-widgets/controls",
          "model_name": "ProgressStyleModel",
          "state": {
            "_view_name": "StyleView",
            "_model_name": "ProgressStyleModel",
            "description_width": "initial",
            "_view_module": "@jupyter-widgets/base",
            "_model_module_version": "1.5.0",
            "_view_count": null,
            "_view_module_version": "1.2.0",
            "bar_color": null,
            "_model_module": "@jupyter-widgets/controls"
          }
        },
        "94f09061a6e543859ce16aed17dde677": {
          "model_module": "@jupyter-widgets/base",
          "model_name": "LayoutModel",
          "state": {
            "_view_name": "LayoutView",
            "grid_template_rows": null,
            "right": null,
            "justify_content": null,
            "_view_module": "@jupyter-widgets/base",
            "overflow": null,
            "_model_module_version": "1.2.0",
            "_view_count": null,
            "flex_flow": null,
            "width": null,
            "min_width": null,
            "border": null,
            "align_items": null,
            "bottom": null,
            "_model_module": "@jupyter-widgets/base",
            "top": null,
            "grid_column": null,
            "overflow_y": null,
            "overflow_x": null,
            "grid_auto_flow": null,
            "grid_area": null,
            "grid_template_columns": null,
            "flex": null,
            "_model_name": "LayoutModel",
            "justify_items": null,
            "grid_row": null,
            "max_height": null,
            "align_content": null,
            "visibility": null,
            "align_self": null,
            "height": null,
            "min_height": null,
            "padding": null,
            "grid_auto_rows": null,
            "grid_gap": null,
            "max_width": null,
            "order": null,
            "_view_module_version": "1.2.0",
            "grid_template_areas": null,
            "object_position": null,
            "object_fit": null,
            "grid_auto_columns": null,
            "margin": null,
            "display": null,
            "left": null
          }
        },
        "c3c6d9f725054df785f1dab8d5270c54": {
          "model_module": "@jupyter-widgets/controls",
          "model_name": "DescriptionStyleModel",
          "state": {
            "_view_name": "StyleView",
            "_model_name": "DescriptionStyleModel",
            "description_width": "",
            "_view_module": "@jupyter-widgets/base",
            "_model_module_version": "1.5.0",
            "_view_count": null,
            "_view_module_version": "1.2.0",
            "_model_module": "@jupyter-widgets/controls"
          }
        },
        "39b9eba932864241b2f9f5d277ec47f8": {
          "model_module": "@jupyter-widgets/base",
          "model_name": "LayoutModel",
          "state": {
            "_view_name": "LayoutView",
            "grid_template_rows": null,
            "right": null,
            "justify_content": null,
            "_view_module": "@jupyter-widgets/base",
            "overflow": null,
            "_model_module_version": "1.2.0",
            "_view_count": null,
            "flex_flow": null,
            "width": null,
            "min_width": null,
            "border": null,
            "align_items": null,
            "bottom": null,
            "_model_module": "@jupyter-widgets/base",
            "top": null,
            "grid_column": null,
            "overflow_y": null,
            "overflow_x": null,
            "grid_auto_flow": null,
            "grid_area": null,
            "grid_template_columns": null,
            "flex": null,
            "_model_name": "LayoutModel",
            "justify_items": null,
            "grid_row": null,
            "max_height": null,
            "align_content": null,
            "visibility": null,
            "align_self": null,
            "height": null,
            "min_height": null,
            "padding": null,
            "grid_auto_rows": null,
            "grid_gap": null,
            "max_width": null,
            "order": null,
            "_view_module_version": "1.2.0",
            "grid_template_areas": null,
            "object_position": null,
            "object_fit": null,
            "grid_auto_columns": null,
            "margin": null,
            "display": null,
            "left": null
          }
        },
        "0a6ebb9ae23b4a95b3f45681d5206362": {
          "model_module": "@jupyter-widgets/controls",
          "model_name": "HBoxModel",
          "state": {
            "_view_name": "HBoxView",
            "_dom_classes": [],
            "_model_name": "HBoxModel",
            "_view_module": "@jupyter-widgets/controls",
            "_model_module_version": "1.5.0",
            "_view_count": null,
            "_view_module_version": "1.5.0",
            "box_style": "",
            "layout": "IPY_MODEL_efcee88e5b9a4e9f9c7febaccb666e68",
            "_model_module": "@jupyter-widgets/controls",
            "children": [
              "IPY_MODEL_1c68693a40dd4b2d8b18a1fc52d242f7",
              "IPY_MODEL_7320e9cdb37f4b09b75103cba66537bb"
            ]
          }
        },
        "efcee88e5b9a4e9f9c7febaccb666e68": {
          "model_module": "@jupyter-widgets/base",
          "model_name": "LayoutModel",
          "state": {
            "_view_name": "LayoutView",
            "grid_template_rows": null,
            "right": null,
            "justify_content": null,
            "_view_module": "@jupyter-widgets/base",
            "overflow": null,
            "_model_module_version": "1.2.0",
            "_view_count": null,
            "flex_flow": null,
            "width": null,
            "min_width": null,
            "border": null,
            "align_items": null,
            "bottom": null,
            "_model_module": "@jupyter-widgets/base",
            "top": null,
            "grid_column": null,
            "overflow_y": null,
            "overflow_x": null,
            "grid_auto_flow": null,
            "grid_area": null,
            "grid_template_columns": null,
            "flex": null,
            "_model_name": "LayoutModel",
            "justify_items": null,
            "grid_row": null,
            "max_height": null,
            "align_content": null,
            "visibility": null,
            "align_self": null,
            "height": null,
            "min_height": null,
            "padding": null,
            "grid_auto_rows": null,
            "grid_gap": null,
            "max_width": null,
            "order": null,
            "_view_module_version": "1.2.0",
            "grid_template_areas": null,
            "object_position": null,
            "object_fit": null,
            "grid_auto_columns": null,
            "margin": null,
            "display": null,
            "left": null
          }
        },
        "1c68693a40dd4b2d8b18a1fc52d242f7": {
          "model_module": "@jupyter-widgets/controls",
          "model_name": "IntProgressModel",
          "state": {
            "_view_name": "ProgressView",
            "style": "IPY_MODEL_bcc71a830bcc4833b487a3fe33db7665",
            "_dom_classes": [],
            "description": "100%",
            "_model_name": "IntProgressModel",
            "bar_style": "success",
            "max": 553433881,
            "_view_module": "@jupyter-widgets/controls",
            "_model_module_version": "1.5.0",
            "value": 553433881,
            "_view_count": null,
            "_view_module_version": "1.5.0",
            "orientation": "horizontal",
            "min": 0,
            "description_tooltip": null,
            "_model_module": "@jupyter-widgets/controls",
            "layout": "IPY_MODEL_d3357d5b785543e497150a8d55900799"
          }
        },
        "7320e9cdb37f4b09b75103cba66537bb": {
          "model_module": "@jupyter-widgets/controls",
          "model_name": "HTMLModel",
          "state": {
            "_view_name": "HTMLView",
            "style": "IPY_MODEL_0ab44e48fb7746bb9ce816de1bd67e5e",
            "_dom_classes": [],
            "description": "",
            "_model_name": "HTMLModel",
            "placeholder": "​",
            "_view_module": "@jupyter-widgets/controls",
            "_model_module_version": "1.5.0",
            "value": " 528M/528M [2:17:04&lt;00:00, 67.3kB/s]",
            "_view_count": null,
            "_view_module_version": "1.5.0",
            "description_tooltip": null,
            "_model_module": "@jupyter-widgets/controls",
            "layout": "IPY_MODEL_433c21f306a645dfbc039bb66644c05c"
          }
        },
        "bcc71a830bcc4833b487a3fe33db7665": {
          "model_module": "@jupyter-widgets/controls",
          "model_name": "ProgressStyleModel",
          "state": {
            "_view_name": "StyleView",
            "_model_name": "ProgressStyleModel",
            "description_width": "initial",
            "_view_module": "@jupyter-widgets/base",
            "_model_module_version": "1.5.0",
            "_view_count": null,
            "_view_module_version": "1.2.0",
            "bar_color": null,
            "_model_module": "@jupyter-widgets/controls"
          }
        },
        "d3357d5b785543e497150a8d55900799": {
          "model_module": "@jupyter-widgets/base",
          "model_name": "LayoutModel",
          "state": {
            "_view_name": "LayoutView",
            "grid_template_rows": null,
            "right": null,
            "justify_content": null,
            "_view_module": "@jupyter-widgets/base",
            "overflow": null,
            "_model_module_version": "1.2.0",
            "_view_count": null,
            "flex_flow": null,
            "width": null,
            "min_width": null,
            "border": null,
            "align_items": null,
            "bottom": null,
            "_model_module": "@jupyter-widgets/base",
            "top": null,
            "grid_column": null,
            "overflow_y": null,
            "overflow_x": null,
            "grid_auto_flow": null,
            "grid_area": null,
            "grid_template_columns": null,
            "flex": null,
            "_model_name": "LayoutModel",
            "justify_items": null,
            "grid_row": null,
            "max_height": null,
            "align_content": null,
            "visibility": null,
            "align_self": null,
            "height": null,
            "min_height": null,
            "padding": null,
            "grid_auto_rows": null,
            "grid_gap": null,
            "max_width": null,
            "order": null,
            "_view_module_version": "1.2.0",
            "grid_template_areas": null,
            "object_position": null,
            "object_fit": null,
            "grid_auto_columns": null,
            "margin": null,
            "display": null,
            "left": null
          }
        },
        "0ab44e48fb7746bb9ce816de1bd67e5e": {
          "model_module": "@jupyter-widgets/controls",
          "model_name": "DescriptionStyleModel",
          "state": {
            "_view_name": "StyleView",
            "_model_name": "DescriptionStyleModel",
            "description_width": "",
            "_view_module": "@jupyter-widgets/base",
            "_model_module_version": "1.5.0",
            "_view_count": null,
            "_view_module_version": "1.2.0",
            "_model_module": "@jupyter-widgets/controls"
          }
        },
        "433c21f306a645dfbc039bb66644c05c": {
          "model_module": "@jupyter-widgets/base",
          "model_name": "LayoutModel",
          "state": {
            "_view_name": "LayoutView",
            "grid_template_rows": null,
            "right": null,
            "justify_content": null,
            "_view_module": "@jupyter-widgets/base",
            "overflow": null,
            "_model_module_version": "1.2.0",
            "_view_count": null,
            "flex_flow": null,
            "width": null,
            "min_width": null,
            "border": null,
            "align_items": null,
            "bottom": null,
            "_model_module": "@jupyter-widgets/base",
            "top": null,
            "grid_column": null,
            "overflow_y": null,
            "overflow_x": null,
            "grid_auto_flow": null,
            "grid_area": null,
            "grid_template_columns": null,
            "flex": null,
            "_model_name": "LayoutModel",
            "justify_items": null,
            "grid_row": null,
            "max_height": null,
            "align_content": null,
            "visibility": null,
            "align_self": null,
            "height": null,
            "min_height": null,
            "padding": null,
            "grid_auto_rows": null,
            "grid_gap": null,
            "max_width": null,
            "order": null,
            "_view_module_version": "1.2.0",
            "grid_template_areas": null,
            "object_position": null,
            "object_fit": null,
            "grid_auto_columns": null,
            "margin": null,
            "display": null,
            "left": null
          }
        }
      }
    }
  },
  "cells": [
    {
      "cell_type": "code",
      "metadata": {
        "id": "7swlxunrwlgi",
        "colab_type": "code",
        "colab": {}
      },
      "source": [
        "# CISC642 PR3 - Matthew Leinhauser\n",
        "\n",
        "import torch\n",
        "import torch.nn as nn\n",
        "import torch.optim as optim\n",
        "from torch.optim import lr_scheduler\n",
        "import numpy as np\n",
        "import torchvision\n",
        "from torchvision import datasets, models, transforms\n",
        "import time\n",
        "import os\n",
        "import copy"
      ],
      "execution_count": 0,
      "outputs": []
    },
    {
      "cell_type": "code",
      "metadata": {
        "id": "eDsULWlRw1pt",
        "colab_type": "code",
        "outputId": "f57b489c-f9e3-41ae-f5a5-629bd54e1cc2",
        "colab": {
          "base_uri": "https://localhost:8080/",
          "height": 100,
          "referenced_widgets": [
            "3c8456e9c90949849b1155211432fdc4",
            "aea38b0a2aae4cd5bc40d44d6b9335fc",
            "ea0f5008adef49488882e9ee3337dd30",
            "0cc1796f4c1d438b860cc0a8723b8ae5",
            "3a53c222ec0046d9851f31f520b8ef01",
            "94f09061a6e543859ce16aed17dde677",
            "c3c6d9f725054df785f1dab8d5270c54",
            "39b9eba932864241b2f9f5d277ec47f8"
          ]
        }
      },
      "source": [
        "# create the training and test sets\n",
        "\n",
        "dataset_root = './data'\n",
        "\n",
        "# resize the images to be the same size, convert them to be Tensor Objects, and\n",
        "# normalize the tensor values based on the mean and standard deviation of the\n",
        "# RGB values\n",
        "\n",
        "data_transforms = transforms.Compose([transforms.Resize((224, 224)),\n",
        "                                      transforms.ToTensor(),\n",
        "                                      transforms.Normalize([0.5, 0.5, 0.5],\n",
        "                                                           [0.5, 0.5, 0.5])])\n",
        "\n",
        "trainset = torchvision.datasets.CIFAR100(dataset_root, train=True, transform =\n",
        "                                         data_transforms, download=True)\n",
        "testset = torchvision.datasets.CIFAR100(dataset_root, train=False, transform =\n",
        "                                        data_transforms, download=True)\n",
        "\n",
        "# create a data loader for both the training set and testing set\n",
        "train_loader = torch.utils.data.DataLoader(trainset, batch_size=16, shuffle=True)\n",
        "test_loader = torch.utils.data.DataLoader(testset, batch_size =16, shuffle=False)"
      ],
      "execution_count": 2,
      "outputs": [
        {
          "output_type": "stream",
          "text": [
            "Downloading https://www.cs.toronto.edu/~kriz/cifar-100-python.tar.gz to ./data/cifar-100-python.tar.gz\n"
          ],
          "name": "stdout"
        },
        {
          "output_type": "display_data",
          "data": {
            "application/vnd.jupyter.widget-view+json": {
              "model_id": "3c8456e9c90949849b1155211432fdc4",
              "version_minor": 0,
              "version_major": 2
            },
            "text/plain": [
              "HBox(children=(IntProgress(value=1, bar_style='info', max=1), HTML(value='')))"
            ]
          },
          "metadata": {
            "tags": []
          }
        },
        {
          "output_type": "stream",
          "text": [
            "Extracting ./data/cifar-100-python.tar.gz to ./data\n",
            "Files already downloaded and verified\n"
          ],
          "name": "stdout"
        }
      ]
    },
    {
      "cell_type": "code",
      "metadata": {
        "id": "CscRZ4Nj2DkL",
        "colab_type": "code",
        "outputId": "447c4475-6ad1-4397-a854-4c8931136e60",
        "colab": {
          "base_uri": "https://localhost:8080/",
          "height": 83,
          "referenced_widgets": [
            "0a6ebb9ae23b4a95b3f45681d5206362",
            "efcee88e5b9a4e9f9c7febaccb666e68",
            "1c68693a40dd4b2d8b18a1fc52d242f7",
            "7320e9cdb37f4b09b75103cba66537bb",
            "bcc71a830bcc4833b487a3fe33db7665",
            "d3357d5b785543e497150a8d55900799",
            "0ab44e48fb7746bb9ce816de1bd67e5e",
            "433c21f306a645dfbc039bb66644c05c"
          ]
        }
      },
      "source": [
        "# load the VGG16 model wiith pretrained weights\n",
        "model = models.vgg16(pretrained=True)\n",
        "\n",
        "# extract the number of input features for the last fully connected model layer\n",
        "num_features = model.classifier[6].in_features\n",
        "\n",
        "# extract the first layer of the model\n",
        "num_class = model.classifier[0].in_features\n",
        "\n",
        "# replace the last fully connected layer with a new layer\n",
        "model.classifier[6] = nn.Linear(num_features, num_class)\n",
        "\n",
        "# freeze all layers except the last layer (output) because we don't want to\n",
        "# update them\n",
        "for param in model.parameters():\n",
        "  param.requires_grad = False\n",
        "\n",
        "for param in model.classifier[6].parameters():\n",
        "  param.requires_grad = True"
      ],
      "execution_count": 3,
      "outputs": [
        {
          "output_type": "stream",
          "text": [
            "Downloading: \"https://download.pytorch.org/models/vgg16-397923af.pth\" to /root/.cache/torch/checkpoints/vgg16-397923af.pth\n"
          ],
          "name": "stderr"
        },
        {
          "output_type": "display_data",
          "data": {
            "application/vnd.jupyter.widget-view+json": {
              "model_id": "0a6ebb9ae23b4a95b3f45681d5206362",
              "version_minor": 0,
              "version_major": 2
            },
            "text/plain": [
              "HBox(children=(IntProgress(value=0, max=553433881), HTML(value='')))"
            ]
          },
          "metadata": {
            "tags": []
          }
        },
        {
          "output_type": "stream",
          "text": [
            "\n"
          ],
          "name": "stdout"
        }
      ]
    },
    {
      "cell_type": "code",
      "metadata": {
        "id": "MpMbgN4x35Q0",
        "colab_type": "code",
        "colab": {}
      },
      "source": [
        "# hyperparameters\n",
        "num_epochs = 10\n",
        "learning_rate = 0.001\n",
        "\n",
        "# set up the model for training\n",
        "device = torch.device('cuda:0' if torch.cuda.is_available() else 'cpu')\n",
        "model = model.to(device)\n",
        "criterion = nn.CrossEntropyLoss()\n",
        "optimizer = optim.SGD(model.parameters(), lr=learning_rate, momentum=0.9)\n",
        "scheduler = lr_scheduler.StepLR(optimizer, step_size=7, gamma=0.1)\n"
      ],
      "execution_count": 0,
      "outputs": []
    },
    {
      "cell_type": "code",
      "metadata": {
        "id": "stfs91amIqRJ",
        "colab_type": "code",
        "outputId": "786c73a2-2935-4cb3-d5ea-fa3da6b042be",
        "colab": {
          "base_uri": "https://localhost:8080/",
          "height": 527
        }
      },
      "source": [
        "# TRAINING THE MODEL\n",
        "\n",
        "# iterate over the mini-batchs and set the optimizer as zero_grad(). Then use\n",
        "# the current model weight for predication and backpropogating the prediction\n",
        "# loss\n",
        "\n",
        "for epoch in range(num_epochs):\n",
        "  for i, (images, labels) in enumerate(train_loader):\n",
        "    images = images.to(device)\n",
        "    labels = labels.to(device)\n",
        "\n",
        "    # Forward Pass\n",
        "    outputs = model(images)\n",
        "    loss = criterion(outputs, labels)\n",
        "\n",
        "    # Optimize Backward Pass\n",
        "    optimizer.zero_grad()\n",
        "    loss.backward()\n",
        "    optimizer.step()\n",
        "\n",
        "    # Track the accuracy and print out where we are in the training process\n",
        "    total = labels.size(0)\n",
        "    _, preds = torch.max(outputs, 1)\n",
        "    correct = (preds == labels).sum().item()\n",
        "    if(i + 1) % 1000 == 0:\n",
        "      print('Epoch [{}/{}], Step [{}/{}], Loss: {:.4f}, Accuracy: {:.2f}%'\n",
        "      .format(epoch + 1, num_epochs, i + 1, len(train_loader), loss.item(), \n",
        "              (correct/ total) * 100))\n",
        "\n",
        "\n",
        "# Save the model weights\n",
        "model_weights = copy.deepcopy(model.state_dict())\n",
        "torch.save(model_weights, 'best_model_weight.pth')"
      ],
      "execution_count": 5,
      "outputs": [
        {
          "output_type": "stream",
          "text": [
            "Epoch [1/10], Step [1000/3125], Loss: 2.4299, Accuracy: 31.25%\n",
            "Epoch [1/10], Step [2000/3125], Loss: 2.0785, Accuracy: 31.25%\n",
            "Epoch [1/10], Step [3000/3125], Loss: 2.4462, Accuracy: 43.75%\n",
            "Epoch [2/10], Step [1000/3125], Loss: 2.4374, Accuracy: 43.75%\n",
            "Epoch [2/10], Step [2000/3125], Loss: 1.5918, Accuracy: 56.25%\n",
            "Epoch [2/10], Step [3000/3125], Loss: 1.4399, Accuracy: 56.25%\n",
            "Epoch [3/10], Step [1000/3125], Loss: 1.8626, Accuracy: 43.75%\n",
            "Epoch [3/10], Step [2000/3125], Loss: 2.0511, Accuracy: 37.50%\n",
            "Epoch [3/10], Step [3000/3125], Loss: 1.1466, Accuracy: 68.75%\n",
            "Epoch [4/10], Step [1000/3125], Loss: 1.8722, Accuracy: 56.25%\n",
            "Epoch [4/10], Step [2000/3125], Loss: 1.1630, Accuracy: 68.75%\n",
            "Epoch [4/10], Step [3000/3125], Loss: 2.0740, Accuracy: 56.25%\n",
            "Epoch [5/10], Step [1000/3125], Loss: 1.6591, Accuracy: 56.25%\n",
            "Epoch [5/10], Step [2000/3125], Loss: 1.6481, Accuracy: 62.50%\n",
            "Epoch [5/10], Step [3000/3125], Loss: 2.4332, Accuracy: 18.75%\n",
            "Epoch [6/10], Step [1000/3125], Loss: 2.3256, Accuracy: 37.50%\n",
            "Epoch [6/10], Step [2000/3125], Loss: 1.3304, Accuracy: 62.50%\n",
            "Epoch [6/10], Step [3000/3125], Loss: 1.7186, Accuracy: 43.75%\n",
            "Epoch [7/10], Step [1000/3125], Loss: 1.2764, Accuracy: 62.50%\n",
            "Epoch [7/10], Step [2000/3125], Loss: 1.6055, Accuracy: 62.50%\n",
            "Epoch [7/10], Step [3000/3125], Loss: 1.2935, Accuracy: 68.75%\n",
            "Epoch [8/10], Step [1000/3125], Loss: 1.1398, Accuracy: 62.50%\n",
            "Epoch [8/10], Step [2000/3125], Loss: 1.9724, Accuracy: 43.75%\n",
            "Epoch [8/10], Step [3000/3125], Loss: 1.7289, Accuracy: 50.00%\n",
            "Epoch [9/10], Step [1000/3125], Loss: 0.9647, Accuracy: 75.00%\n",
            "Epoch [9/10], Step [2000/3125], Loss: 0.8383, Accuracy: 81.25%\n",
            "Epoch [9/10], Step [3000/3125], Loss: 1.6212, Accuracy: 37.50%\n",
            "Epoch [10/10], Step [1000/3125], Loss: 1.9436, Accuracy: 37.50%\n",
            "Epoch [10/10], Step [2000/3125], Loss: 1.1477, Accuracy: 75.00%\n",
            "Epoch [10/10], Step [3000/3125], Loss: 2.3500, Accuracy: 37.50%\n"
          ],
          "name": "stdout"
        }
      ]
    },
    {
      "cell_type": "code",
      "metadata": {
        "id": "4BfNkatbLpNa",
        "colab_type": "code",
        "outputId": "fac34883-79c3-4fc9-ded3-53b3ccfc99d2",
        "colab": {
          "base_uri": "https://localhost:8080/",
          "height": 34
        }
      },
      "source": [
        "# TESTING THE MODEL\n",
        "num_correct = 0\n",
        "num_samples = 0\n",
        "\n",
        "model.load_state_dict(torch.load('best_model_weight.pth'))\n",
        "\n",
        "model.eval()\n",
        "with torch.no_grad():\n",
        "  correct = 0\n",
        "  total = 0\n",
        "  for images, labels in test_loader:\n",
        "    images = images.to(device)\n",
        "    labels = labels.to(device)\n",
        "    outputs = model(images)\n",
        "    _, preds = torch.max(outputs, 1)\n",
        "    num_samples += labels.size(0)\n",
        "    num_correct += (preds == labels).sum().item()\n",
        "  \n",
        "print('Accuracy: ', (num_correct/num_samples) * 100, '%')"
      ],
      "execution_count": 7,
      "outputs": [
        {
          "output_type": "stream",
          "text": [
            "Accuracy:  57.85 %\n"
          ],
          "name": "stdout"
        }
      ]
    },
    {
      "cell_type": "markdown",
      "metadata": {
        "id": "oUpA9bIAHU7O",
        "colab_type": "text"
      },
      "source": [
        "# **PART 2**"
      ]
    },
    {
      "cell_type": "code",
      "metadata": {
        "id": "KrKsOzEgHX35",
        "colab_type": "code",
        "colab": {}
      },
      "source": [
        "# Create the model\n",
        "class ConvNet(nn.Module):\n",
        "  def __init__(self):\n",
        "    super(ConvNet, self).__init__()\n",
        "    self.layer1 = nn.Sequential(\n",
        "        nn.Conv2d(3, 20, 5, 1, 2),\n",
        "        nn.ReLU(),\n",
        "        nn.MaxPool2d(2, 4))\n",
        "    self.layer2 = nn.Sequential(\n",
        "        nn.Conv2d(20, 40, 5, 1, 2),\n",
        "        nn.ReLU(),\n",
        "        nn.MaxPool2d(2, 2))\n",
        "    self.layer3 = nn.Sequential(\n",
        "        nn.Conv2d(40, 80, 5, 1, 2),\n",
        "        nn.ReLU(),\n",
        "        nn.MaxPool2d(2, 2))\n",
        "    # add a dropout layer to avoid overfitting\n",
        "    self.drop_out = nn.Dropout()\n",
        "    self.fully_con_1 = nn.Linear(14 * 14 * 80, 200)\n",
        "    self.fully_con_2 = nn.Linear(200, 100)\n",
        "\n",
        "  def forward(self, x):\n",
        "    output = self.layer1(x)\n",
        "    output = self.layer2(output)\n",
        "    output = self.layer3(output)\n",
        "    output = output.reshape(output.size(0), -1)\n",
        "    output = self.drop_out(output)\n",
        "    output = self.fully_con_1(output)\n",
        "    output = self.fully_con_2(output)\n",
        "    return output\n"
      ],
      "execution_count": 0,
      "outputs": []
    },
    {
      "cell_type": "code",
      "metadata": {
        "id": "VlvWAyXwjtjK",
        "colab_type": "code",
        "colab": {}
      },
      "source": [
        "# Set up the model\n",
        "\n",
        "# hyperparameters\n",
        "num_epochs = 30\n",
        "learning_rate = 0.001\n",
        "\n",
        "# set up the model for training\n",
        "device = torch.device('cuda:0' if torch.cuda.is_available() else 'cpu')\n",
        "model = ConvNet().to(device)\n",
        "\n",
        "criterion = nn.CrossEntropyLoss()\n",
        "optimizer = optim.SGD(model.parameters(), lr=learning_rate, momentum=0.9)\n",
        "scheduler = lr_scheduler.StepLR(optimizer, step_size=7, gamma=0.1)"
      ],
      "execution_count": 0,
      "outputs": []
    },
    {
      "cell_type": "code",
      "metadata": {
        "id": "T7fdEDcvk0IP",
        "colab_type": "code",
        "colab": {
          "base_uri": "https://localhost:8080/",
          "height": 1000
        },
        "outputId": "98f7ebd4-e811-47ed-93f6-3ee86da893b4"
      },
      "source": [
        "# Train the model\n",
        "# iterate over the mini-batchs and set the optimizer as zero_grad(). Then use\n",
        "# the current model weight for predication and backpropogating the prediction\n",
        "# loss\n",
        "\n",
        "for epoch in range(num_epochs):\n",
        "  for i, (images, labels) in enumerate(train_loader):\n",
        "    images = images.to(device)\n",
        "    labels = labels.to(device)\n",
        "\n",
        "    # Forward Pass\n",
        "    outputs = model(images)\n",
        "    loss = criterion(outputs, labels)\n",
        "\n",
        "    # Optimize Backward Pass\n",
        "    optimizer.zero_grad()\n",
        "    loss.backward()\n",
        "    optimizer.step()\n",
        "\n",
        "    # Track the accuracy and print out where we are in the training process\n",
        "    total = labels.size(0)\n",
        "    _, preds = torch.max(outputs, 1)\n",
        "    correct = (preds == labels).sum().item()\n",
        "    if(i + 1) % 1000 == 0:\n",
        "      print('Epoch [{}/{}], Step [{}/{}], Loss: {:.4f}, Accuracy: {:.2f}%'\n",
        "      .format(epoch + 1, num_epochs, i + 1, len(train_loader), loss.item(), \n",
        "              (correct/ total) * 100))\n",
        "\n",
        "# Save the model weights\n",
        "model_weights = copy.deepcopy(model.state_dict())\n",
        "torch.save(model_weights, 'best_model_weight.pth')"
      ],
      "execution_count": 20,
      "outputs": [
        {
          "output_type": "stream",
          "text": [
            "Epoch [1/30], Step [1000/3125], Loss: 4.3576, Accuracy: 0.00%\n",
            "Epoch [1/30], Step [2000/3125], Loss: 4.3636, Accuracy: 0.00%\n",
            "Epoch [1/30], Step [3000/3125], Loss: 3.4498, Accuracy: 18.75%\n",
            "Epoch [2/30], Step [1000/3125], Loss: 3.2536, Accuracy: 12.50%\n",
            "Epoch [2/30], Step [2000/3125], Loss: 3.5796, Accuracy: 25.00%\n",
            "Epoch [2/30], Step [3000/3125], Loss: 2.7496, Accuracy: 43.75%\n",
            "Epoch [3/30], Step [1000/3125], Loss: 2.8295, Accuracy: 25.00%\n",
            "Epoch [3/30], Step [2000/3125], Loss: 2.1158, Accuracy: 37.50%\n",
            "Epoch [3/30], Step [3000/3125], Loss: 2.2985, Accuracy: 37.50%\n",
            "Epoch [4/30], Step [1000/3125], Loss: 1.3366, Accuracy: 68.75%\n",
            "Epoch [4/30], Step [2000/3125], Loss: 1.7477, Accuracy: 56.25%\n",
            "Epoch [4/30], Step [3000/3125], Loss: 2.5659, Accuracy: 31.25%\n",
            "Epoch [5/30], Step [1000/3125], Loss: 3.4999, Accuracy: 6.25%\n",
            "Epoch [5/30], Step [2000/3125], Loss: 2.0580, Accuracy: 50.00%\n",
            "Epoch [5/30], Step [3000/3125], Loss: 2.0773, Accuracy: 43.75%\n",
            "Epoch [6/30], Step [1000/3125], Loss: 1.7321, Accuracy: 43.75%\n",
            "Epoch [6/30], Step [2000/3125], Loss: 2.1881, Accuracy: 37.50%\n",
            "Epoch [6/30], Step [3000/3125], Loss: 1.5344, Accuracy: 62.50%\n",
            "Epoch [7/30], Step [1000/3125], Loss: 2.1432, Accuracy: 31.25%\n",
            "Epoch [7/30], Step [2000/3125], Loss: 2.0935, Accuracy: 37.50%\n",
            "Epoch [7/30], Step [3000/3125], Loss: 1.6688, Accuracy: 50.00%\n",
            "Epoch [8/30], Step [1000/3125], Loss: 1.7096, Accuracy: 56.25%\n",
            "Epoch [8/30], Step [2000/3125], Loss: 0.8285, Accuracy: 87.50%\n",
            "Epoch [8/30], Step [3000/3125], Loss: 1.4191, Accuracy: 68.75%\n",
            "Epoch [9/30], Step [1000/3125], Loss: 1.5343, Accuracy: 68.75%\n",
            "Epoch [9/30], Step [2000/3125], Loss: 1.2456, Accuracy: 56.25%\n",
            "Epoch [9/30], Step [3000/3125], Loss: 1.3852, Accuracy: 62.50%\n",
            "Epoch [10/30], Step [1000/3125], Loss: 0.4198, Accuracy: 93.75%\n",
            "Epoch [10/30], Step [2000/3125], Loss: 1.3622, Accuracy: 56.25%\n",
            "Epoch [10/30], Step [3000/3125], Loss: 1.1473, Accuracy: 68.75%\n",
            "Epoch [11/30], Step [1000/3125], Loss: 0.3887, Accuracy: 87.50%\n",
            "Epoch [11/30], Step [2000/3125], Loss: 1.5768, Accuracy: 43.75%\n",
            "Epoch [11/30], Step [3000/3125], Loss: 1.1977, Accuracy: 68.75%\n",
            "Epoch [12/30], Step [1000/3125], Loss: 1.3080, Accuracy: 62.50%\n",
            "Epoch [12/30], Step [2000/3125], Loss: 0.9029, Accuracy: 68.75%\n",
            "Epoch [12/30], Step [3000/3125], Loss: 1.1714, Accuracy: 68.75%\n",
            "Epoch [13/30], Step [1000/3125], Loss: 0.6774, Accuracy: 87.50%\n",
            "Epoch [13/30], Step [2000/3125], Loss: 0.9151, Accuracy: 81.25%\n",
            "Epoch [13/30], Step [3000/3125], Loss: 0.5699, Accuracy: 81.25%\n",
            "Epoch [14/30], Step [1000/3125], Loss: 0.9896, Accuracy: 68.75%\n",
            "Epoch [14/30], Step [2000/3125], Loss: 0.6664, Accuracy: 68.75%\n",
            "Epoch [14/30], Step [3000/3125], Loss: 0.7597, Accuracy: 81.25%\n",
            "Epoch [15/30], Step [1000/3125], Loss: 0.7874, Accuracy: 75.00%\n",
            "Epoch [15/30], Step [2000/3125], Loss: 0.7917, Accuracy: 68.75%\n",
            "Epoch [15/30], Step [3000/3125], Loss: 0.9212, Accuracy: 68.75%\n",
            "Epoch [16/30], Step [1000/3125], Loss: 1.1129, Accuracy: 68.75%\n",
            "Epoch [16/30], Step [2000/3125], Loss: 0.4272, Accuracy: 93.75%\n",
            "Epoch [16/30], Step [3000/3125], Loss: 0.7844, Accuracy: 62.50%\n",
            "Epoch [17/30], Step [1000/3125], Loss: 0.2881, Accuracy: 87.50%\n",
            "Epoch [17/30], Step [2000/3125], Loss: 0.4991, Accuracy: 81.25%\n",
            "Epoch [17/30], Step [3000/3125], Loss: 0.7895, Accuracy: 75.00%\n",
            "Epoch [18/30], Step [1000/3125], Loss: 0.7088, Accuracy: 75.00%\n",
            "Epoch [18/30], Step [2000/3125], Loss: 0.2929, Accuracy: 93.75%\n",
            "Epoch [18/30], Step [3000/3125], Loss: 0.4553, Accuracy: 87.50%\n",
            "Epoch [19/30], Step [1000/3125], Loss: 0.5897, Accuracy: 81.25%\n",
            "Epoch [19/30], Step [2000/3125], Loss: 0.3575, Accuracy: 87.50%\n",
            "Epoch [19/30], Step [3000/3125], Loss: 0.4989, Accuracy: 87.50%\n",
            "Epoch [20/30], Step [1000/3125], Loss: 0.1295, Accuracy: 93.75%\n",
            "Epoch [20/30], Step [2000/3125], Loss: 0.9959, Accuracy: 68.75%\n",
            "Epoch [20/30], Step [3000/3125], Loss: 0.3352, Accuracy: 87.50%\n",
            "Epoch [21/30], Step [1000/3125], Loss: 0.0759, Accuracy: 100.00%\n",
            "Epoch [21/30], Step [2000/3125], Loss: 0.5738, Accuracy: 81.25%\n",
            "Epoch [21/30], Step [3000/3125], Loss: 0.2201, Accuracy: 93.75%\n",
            "Epoch [22/30], Step [1000/3125], Loss: 0.1319, Accuracy: 100.00%\n",
            "Epoch [22/30], Step [2000/3125], Loss: 0.2484, Accuracy: 87.50%\n",
            "Epoch [22/30], Step [3000/3125], Loss: 0.3161, Accuracy: 93.75%\n",
            "Epoch [23/30], Step [1000/3125], Loss: 0.3884, Accuracy: 81.25%\n",
            "Epoch [23/30], Step [2000/3125], Loss: 0.1930, Accuracy: 93.75%\n",
            "Epoch [23/30], Step [3000/3125], Loss: 0.1414, Accuracy: 100.00%\n",
            "Epoch [24/30], Step [1000/3125], Loss: 0.4906, Accuracy: 81.25%\n",
            "Epoch [24/30], Step [2000/3125], Loss: 0.0207, Accuracy: 100.00%\n",
            "Epoch [24/30], Step [3000/3125], Loss: 0.6138, Accuracy: 75.00%\n",
            "Epoch [25/30], Step [1000/3125], Loss: 0.1766, Accuracy: 100.00%\n",
            "Epoch [25/30], Step [2000/3125], Loss: 0.8308, Accuracy: 68.75%\n",
            "Epoch [25/30], Step [3000/3125], Loss: 0.2148, Accuracy: 93.75%\n",
            "Epoch [26/30], Step [1000/3125], Loss: 0.0931, Accuracy: 93.75%\n",
            "Epoch [26/30], Step [2000/3125], Loss: 0.2384, Accuracy: 87.50%\n",
            "Epoch [26/30], Step [3000/3125], Loss: 0.0758, Accuracy: 100.00%\n",
            "Epoch [27/30], Step [1000/3125], Loss: 0.1169, Accuracy: 93.75%\n",
            "Epoch [27/30], Step [2000/3125], Loss: 0.1686, Accuracy: 87.50%\n",
            "Epoch [27/30], Step [3000/3125], Loss: 0.0472, Accuracy: 100.00%\n",
            "Epoch [28/30], Step [1000/3125], Loss: 0.0612, Accuracy: 100.00%\n",
            "Epoch [28/30], Step [2000/3125], Loss: 0.1193, Accuracy: 93.75%\n",
            "Epoch [28/30], Step [3000/3125], Loss: 0.0211, Accuracy: 100.00%\n",
            "Epoch [29/30], Step [1000/3125], Loss: 0.2874, Accuracy: 93.75%\n",
            "Epoch [29/30], Step [2000/3125], Loss: 0.0324, Accuracy: 100.00%\n",
            "Epoch [29/30], Step [3000/3125], Loss: 0.1767, Accuracy: 93.75%\n",
            "Epoch [30/30], Step [1000/3125], Loss: 0.3729, Accuracy: 81.25%\n",
            "Epoch [30/30], Step [2000/3125], Loss: 0.3069, Accuracy: 87.50%\n",
            "Epoch [30/30], Step [3000/3125], Loss: 0.2893, Accuracy: 93.75%\n"
          ],
          "name": "stdout"
        }
      ]
    },
    {
      "cell_type": "code",
      "metadata": {
        "id": "KetImBjf0H7Z",
        "colab_type": "code",
        "colab": {
          "base_uri": "https://localhost:8080/",
          "height": 34
        },
        "outputId": "8aa66d01-a063-4c50-e9eb-d78b2c98cf3b"
      },
      "source": [
        "# Test the model\n",
        "num_correct = 0\n",
        "num_samples = 0\n",
        "\n",
        "model.load_state_dict(torch.load('best_model_weight.pth'))\n",
        "\n",
        "model.eval()\n",
        "for epoch in range(num_epochs):\n",
        "# with torch.no_grad():\n",
        "  correct = 0\n",
        "  total = 0\n",
        "  for images, labels in test_loader:\n",
        "    images = images.to(device)\n",
        "    labels = labels.to(device)\n",
        "    outputs = model(images)\n",
        "    _, preds = torch.max(outputs, 1)\n",
        "    num_samples += labels.size(0)\n",
        "    num_correct += (preds == labels).sum().item()\n",
        "  \n",
        "print('Accuracy: ', (num_correct/num_samples) * 100, '%')"
      ],
      "execution_count": 21,
      "outputs": [
        {
          "output_type": "stream",
          "text": [
            "Accuracy:  40.510000000000005 %\n"
          ],
          "name": "stdout"
        }
      ]
    }
  ]
}